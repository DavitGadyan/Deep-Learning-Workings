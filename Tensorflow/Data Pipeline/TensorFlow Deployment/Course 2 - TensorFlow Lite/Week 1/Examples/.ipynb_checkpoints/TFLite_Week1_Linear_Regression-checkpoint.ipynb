{
 "cells": [
  {
   "cell_type": "markdown",
   "metadata": {
    "colab_type": "text",
    "id": "Za8-Nr5k11fh"
   },
   "source": [
    "##### Copyright 2018 The TensorFlow Authors."
   ]
  },
  {
   "cell_type": "code",
   "execution_count": null,
   "metadata": {
    "cellView": "form",
    "colab": {},
    "colab_type": "code",
    "id": "Eq10uEbw0E4l"
   },
   "outputs": [],
   "source": [
    "#@title Licensed under the Apache License, Version 2.0 (the \"License\");\n",
    "# you may not use this file except in compliance with the License.\n",
    "# You may obtain a copy of the License at\n",
    "#\n",
    "# https://www.apache.org/licenses/LICENSE-2.0\n",
    "#\n",
    "# Unless required by applicable law or agreed to in writing, software\n",
    "# distributed under the License is distributed on an \"AS IS\" BASIS,\n",
    "# WITHOUT WARRANTIES OR CONDITIONS OF ANY KIND, either express or implied.\n",
    "# See the License for the specific language governing permissions and\n",
    "# limitations under the License."
   ]
  },
  {
   "cell_type": "markdown",
   "metadata": {
    "colab_type": "text",
    "id": "UysiGN3tGQHY"
   },
   "source": [
    "# Running TFLite models"
   ]
  },
  {
   "cell_type": "markdown",
   "metadata": {
    "colab_type": "text",
    "id": "2hOrvdmswy5O"
   },
   "source": [
    "<table class=\"tfo-notebook-buttons\" align=\"left\">\n",
    "  <td>\n",
    "    <a target=\"_blank\" href=\"https://colab.research.google.com/github/lmoroney/dlaicourse/blob/master/TensorFlow%20Deployment/Course%202%20-%20TensorFlow%20Lite/Week%201/Examples/TFLite_Week1_Linear_Regression.ipynb\">\n",
    "    <img src=\"https://www.tensorflow.org/images/colab_logo_32px.png\" />\n",
    "    Run in Google Colab</a>\n",
    "  </td>\n",
    "  <td>\n",
    "    <a target=\"_blank\" href=\"https://github.com/lmoroney/dlaicourse/blob/master/TensorFlow%20Deployment/Course%202%20-%20TensorFlow%20Lite/Week%201/Examples/TFLite_Week1_Linear_Regression.ipynb\">\n",
    "    <img src=\"https://www.tensorflow.org/images/GitHub-Mark-32px.png\" />\n",
    "    View source on GitHub</a>\n",
    "  </td>\n",
    "</table>"
   ]
  },
  {
   "cell_type": "markdown",
   "metadata": {
    "colab_type": "text",
    "id": "W-VhTkyTGcaQ"
   },
   "source": [
    "## Setup"
   ]
  },
  {
   "cell_type": "code",
   "execution_count": 1,
   "metadata": {
    "colab": {},
    "colab_type": "code",
    "id": "Ll4ii2J9Fea_"
   },
   "outputs": [],
   "source": [
    "try:\n",
    "    %tensorflow_version 2.x\n",
    "except:\n",
    "    pass"
   ]
  },
  {
   "cell_type": "code",
   "execution_count": 40,
   "metadata": {
    "colab": {},
    "colab_type": "code",
    "id": "dy4BcTjBFTWx"
   },
   "outputs": [
    {
     "name": "stdout",
     "output_type": "stream",
     "text": [
      "• Using TensorFlow Version: 1.14.0\n"
     ]
    }
   ],
   "source": [
    "import pathlib\n",
    "import numpy as np\n",
    "import matplotlib.pyplot as plt\n",
    "\n",
    "import tensorflow as tf\n",
    "\n",
    "print('\\u2022 Using TensorFlow Version:', tf.__version__)"
   ]
  },
  {
   "cell_type": "markdown",
   "metadata": {
    "colab_type": "text",
    "id": "ceibQLDeGhI4"
   },
   "source": [
    "## Create a Basic Model of the Form y = mx + c"
   ]
  },
  {
   "cell_type": "code",
   "execution_count": 41,
   "metadata": {
    "colab": {},
    "colab_type": "code",
    "id": "YIBCsjQNF46Z"
   },
   "outputs": [
    {
     "name": "stdout",
     "output_type": "stream",
     "text": [
      "Epoch 1/200\n",
      "6/6 [==============================] - 0s 12ms/sample - loss: 3.3856\n",
      "Epoch 2/200\n",
      "6/6 [==============================] - 0s 332us/sample - loss: 2.8234\n",
      "Epoch 3/200\n",
      "6/6 [==============================] - 0s 332us/sample - loss: 2.3779\n",
      "Epoch 4/200\n",
      "6/6 [==============================] - 0s 333us/sample - loss: 2.0242\n",
      "Epoch 5/200\n",
      "6/6 [==============================] - 0s 166us/sample - loss: 1.7427\n",
      "Epoch 6/200\n",
      "6/6 [==============================] - 0s 166us/sample - loss: 1.5182\n",
      "Epoch 7/200\n",
      "6/6 [==============================] - 0s 333us/sample - loss: 1.3385\n",
      "Epoch 8/200\n",
      "6/6 [==============================] - 0s 332us/sample - loss: 1.1942\n",
      "Epoch 9/200\n",
      "6/6 [==============================] - 0s 166us/sample - loss: 1.0778\n",
      "Epoch 10/200\n",
      "6/6 [==============================] - 0s 166us/sample - loss: 0.9834\n",
      "Epoch 11/200\n",
      "6/6 [==============================] - 0s 166us/sample - loss: 0.9063\n",
      "Epoch 12/200\n",
      "6/6 [==============================] - 0s 333us/sample - loss: 0.8429\n",
      "Epoch 13/200\n",
      "6/6 [==============================] - 0s 166us/sample - loss: 0.7904\n",
      "Epoch 14/200\n",
      "6/6 [==============================] - 0s 166us/sample - loss: 0.7464\n",
      "Epoch 15/200\n",
      "6/6 [==============================] - 0s 166us/sample - loss: 0.7093\n",
      "Epoch 16/200\n",
      "6/6 [==============================] - 0s 166us/sample - loss: 0.6776\n",
      "Epoch 17/200\n",
      "6/6 [==============================] - 0s 166us/sample - loss: 0.6502\n",
      "Epoch 18/200\n",
      "6/6 [==============================] - 0s 333us/sample - loss: 0.6262\n",
      "Epoch 19/200\n",
      "6/6 [==============================] - 0s 332us/sample - loss: 0.6050\n",
      "Epoch 20/200\n",
      "6/6 [==============================] - 0s 166us/sample - loss: 0.5860\n",
      "Epoch 21/200\n",
      "6/6 [==============================] - 0s 333us/sample - loss: 0.5688\n",
      "Epoch 22/200\n",
      "6/6 [==============================] - 0s 166us/sample - loss: 0.5531\n",
      "Epoch 23/200\n",
      "6/6 [==============================] - 0s 333us/sample - loss: 0.5385\n",
      "Epoch 24/200\n",
      "6/6 [==============================] - 0s 166us/sample - loss: 0.5249\n",
      "Epoch 25/200\n",
      "6/6 [==============================] - 0s 332us/sample - loss: 0.5122\n",
      "Epoch 26/200\n",
      "6/6 [==============================] - 0s 332us/sample - loss: 0.5001\n",
      "Epoch 27/200\n",
      "6/6 [==============================] - 0s 333us/sample - loss: 0.4886\n",
      "Epoch 28/200\n",
      "6/6 [==============================] - 0s 166us/sample - loss: 0.4776\n",
      "Epoch 29/200\n",
      "6/6 [==============================] - 0s 332us/sample - loss: 0.4670\n",
      "Epoch 30/200\n",
      "6/6 [==============================] - 0s 161us/sample - loss: 0.4568\n",
      "Epoch 31/200\n",
      "6/6 [==============================] - 0s 166us/sample - loss: 0.4470\n",
      "Epoch 32/200\n",
      "6/6 [==============================] - 0s 333us/sample - loss: 0.4374\n",
      "Epoch 33/200\n",
      "6/6 [==============================] - 0s 163us/sample - loss: 0.4281\n",
      "Epoch 34/200\n",
      "6/6 [==============================] - 0s 162us/sample - loss: 0.4191\n",
      "Epoch 35/200\n",
      "6/6 [==============================] - 0s 162us/sample - loss: 0.4103\n",
      "Epoch 36/200\n",
      "6/6 [==============================] - 0s 166us/sample - loss: 0.4018\n",
      "Epoch 37/200\n",
      "6/6 [==============================] - 0s 166us/sample - loss: 0.3934\n",
      "Epoch 38/200\n",
      "6/6 [==============================] - 0s 166us/sample - loss: 0.3852\n",
      "Epoch 39/200\n",
      "6/6 [==============================] - 0s 166us/sample - loss: 0.3772\n",
      "Epoch 40/200\n",
      "6/6 [==============================] - 0s 166us/sample - loss: 0.3694\n",
      "Epoch 41/200\n",
      "6/6 [==============================] - 0s 166us/sample - loss: 0.3618\n",
      "Epoch 42/200\n",
      "6/6 [==============================] - 0s 166us/sample - loss: 0.3543\n",
      "Epoch 43/200\n",
      "6/6 [==============================] - 0s 166us/sample - loss: 0.3470\n",
      "Epoch 44/200\n",
      "6/6 [==============================] - 0s 333us/sample - loss: 0.3399\n",
      "Epoch 45/200\n",
      "6/6 [==============================] - 0s 166us/sample - loss: 0.3329\n",
      "Epoch 46/200\n",
      "6/6 [==============================] - 0s 166us/sample - loss: 0.3260\n",
      "Epoch 47/200\n",
      "6/6 [==============================] - 0s 166us/sample - loss: 0.3193\n",
      "Epoch 48/200\n",
      "6/6 [==============================] - 0s 166us/sample - loss: 0.3128\n",
      "Epoch 49/200\n",
      "6/6 [==============================] - 0s 166us/sample - loss: 0.3063\n",
      "Epoch 50/200\n",
      "6/6 [==============================] - 0s 332us/sample - loss: 0.3000\n",
      "Epoch 51/200\n",
      "6/6 [==============================] - 0s 333us/sample - loss: 0.2939\n",
      "Epoch 52/200\n",
      "6/6 [==============================] - 0s 333us/sample - loss: 0.2878\n",
      "Epoch 53/200\n",
      "6/6 [==============================] - 0s 332us/sample - loss: 0.2819\n",
      "Epoch 54/200\n",
      "6/6 [==============================] - 0s 332us/sample - loss: 0.2761\n",
      "Epoch 55/200\n",
      "6/6 [==============================] - 0s 332us/sample - loss: 0.2705\n",
      "Epoch 56/200\n",
      "6/6 [==============================] - 0s 332us/sample - loss: 0.2649\n",
      "Epoch 57/200\n",
      "6/6 [==============================] - 0s 166us/sample - loss: 0.2595\n",
      "Epoch 58/200\n",
      "6/6 [==============================] - 0s 332us/sample - loss: 0.2541\n",
      "Epoch 59/200\n",
      "6/6 [==============================] - 0s 333us/sample - loss: 0.2489\n",
      "Epoch 60/200\n",
      "6/6 [==============================] - 0s 166us/sample - loss: 0.2438\n",
      "Epoch 61/200\n",
      "6/6 [==============================] - 0s 166us/sample - loss: 0.2388\n",
      "Epoch 62/200\n",
      "6/6 [==============================] - 0s 166us/sample - loss: 0.2339\n",
      "Epoch 63/200\n",
      "6/6 [==============================] - 0s 166us/sample - loss: 0.2291\n",
      "Epoch 64/200\n",
      "6/6 [==============================] - 0s 166us/sample - loss: 0.2244\n",
      "Epoch 65/200\n",
      "6/6 [==============================] - 0s 332us/sample - loss: 0.2198\n",
      "Epoch 66/200\n",
      "6/6 [==============================] - 0s 166us/sample - loss: 0.2152\n",
      "Epoch 67/200\n",
      "6/6 [==============================] - 0s 166us/sample - loss: 0.2108\n",
      "Epoch 68/200\n",
      "6/6 [==============================] - 0s 166us/sample - loss: 0.2065\n",
      "Epoch 69/200\n",
      "6/6 [==============================] - 0s 166us/sample - loss: 0.2023\n",
      "Epoch 70/200\n",
      "6/6 [==============================] - 0s 333us/sample - loss: 0.1981\n",
      "Epoch 71/200\n",
      "6/6 [==============================] - 0s 166us/sample - loss: 0.1940\n",
      "Epoch 72/200\n",
      "6/6 [==============================] - 0s 166us/sample - loss: 0.1900\n",
      "Epoch 73/200\n",
      "6/6 [==============================] - 0s 333us/sample - loss: 0.1861\n",
      "Epoch 74/200\n",
      "6/6 [==============================] - 0s 166us/sample - loss: 0.1823\n",
      "Epoch 75/200\n",
      "6/6 [==============================] - 0s 166us/sample - loss: 0.1786\n",
      "Epoch 76/200\n",
      "6/6 [==============================] - 0s 332us/sample - loss: 0.1749\n",
      "Epoch 77/200\n",
      "6/6 [==============================] - 0s 332us/sample - loss: 0.1713\n",
      "Epoch 78/200\n",
      "6/6 [==============================] - 0s 332us/sample - loss: 0.1678\n",
      "Epoch 79/200\n",
      "6/6 [==============================] - 0s 332us/sample - loss: 0.1643\n",
      "Epoch 80/200\n",
      "6/6 [==============================] - 0s 333us/sample - loss: 0.1610\n",
      "Epoch 81/200\n",
      "6/6 [==============================] - 0s 333us/sample - loss: 0.1577\n",
      "Epoch 82/200\n",
      "6/6 [==============================] - 0s 166us/sample - loss: 0.1544\n",
      "Epoch 83/200\n",
      "6/6 [==============================] - 0s 332us/sample - loss: 0.1513\n",
      "Epoch 84/200\n",
      "6/6 [==============================] - 0s 166us/sample - loss: 0.1481\n",
      "Epoch 85/200\n",
      "6/6 [==============================] - 0s 332us/sample - loss: 0.1451\n",
      "Epoch 86/200\n",
      "6/6 [==============================] - 0s 332us/sample - loss: 0.1421\n",
      "Epoch 87/200\n",
      "6/6 [==============================] - 0s 333us/sample - loss: 0.1392\n",
      "Epoch 88/200\n",
      "6/6 [==============================] - 0s 332us/sample - loss: 0.1363\n",
      "Epoch 89/200\n",
      "6/6 [==============================] - 0s 332us/sample - loss: 0.1335\n",
      "Epoch 90/200\n",
      "6/6 [==============================] - 0s 332us/sample - loss: 0.1308\n",
      "Epoch 91/200\n",
      "6/6 [==============================] - 0s 166us/sample - loss: 0.1281\n",
      "Epoch 92/200\n",
      "6/6 [==============================] - 0s 166us/sample - loss: 0.1255\n",
      "Epoch 93/200\n",
      "6/6 [==============================] - 0s 332us/sample - loss: 0.1229\n",
      "Epoch 94/200\n",
      "6/6 [==============================] - 0s 166us/sample - loss: 0.1204\n",
      "Epoch 95/200\n",
      "6/6 [==============================] - 0s 333us/sample - loss: 0.1179\n",
      "Epoch 96/200\n",
      "6/6 [==============================] - 0s 332us/sample - loss: 0.1155\n",
      "Epoch 97/200\n",
      "6/6 [==============================] - 0s 333us/sample - loss: 0.1131\n",
      "Epoch 98/200\n",
      "6/6 [==============================] - 0s 332us/sample - loss: 0.1108\n",
      "Epoch 99/200\n",
      "6/6 [==============================] - 0s 332us/sample - loss: 0.1085\n"
     ]
    },
    {
     "name": "stdout",
     "output_type": "stream",
     "text": [
      "Epoch 100/200\n",
      "6/6 [==============================] - 0s 332us/sample - loss: 0.1063\n",
      "Epoch 101/200\n",
      "6/6 [==============================] - 0s 332us/sample - loss: 0.1041\n",
      "Epoch 102/200\n",
      "6/6 [==============================] - 0s 166us/sample - loss: 0.1020\n",
      "Epoch 103/200\n",
      "6/6 [==============================] - 0s 997us/sample - loss: 0.0999\n",
      "Epoch 104/200\n",
      "6/6 [==============================] - 0s 332us/sample - loss: 0.0978\n",
      "Epoch 105/200\n",
      "6/6 [==============================] - 0s 332us/sample - loss: 0.0958\n",
      "Epoch 106/200\n",
      "6/6 [==============================] - 0s 332us/sample - loss: 0.0938\n",
      "Epoch 107/200\n",
      "6/6 [==============================] - 0s 332us/sample - loss: 0.0919\n",
      "Epoch 108/200\n",
      "6/6 [==============================] - 0s 333us/sample - loss: 0.0900\n",
      "Epoch 109/200\n",
      "6/6 [==============================] - 0s 332us/sample - loss: 0.0882\n",
      "Epoch 110/200\n",
      "6/6 [==============================] - 0s 166us/sample - loss: 0.0864\n",
      "Epoch 111/200\n",
      "6/6 [==============================] - 0s 166us/sample - loss: 0.0846\n",
      "Epoch 112/200\n",
      "6/6 [==============================] - 0s 333us/sample - loss: 0.0829\n",
      "Epoch 113/200\n",
      "6/6 [==============================] - 0s 332us/sample - loss: 0.0812\n",
      "Epoch 114/200\n",
      "6/6 [==============================] - 0s 162us/sample - loss: 0.0795\n",
      "Epoch 115/200\n",
      "6/6 [==============================] - 0s 333us/sample - loss: 0.0779\n",
      "Epoch 116/200\n",
      "6/6 [==============================] - 0s 166us/sample - loss: 0.0763\n",
      "Epoch 117/200\n",
      "6/6 [==============================] - 0s 332us/sample - loss: 0.0747\n",
      "Epoch 118/200\n",
      "6/6 [==============================] - 0s 332us/sample - loss: 0.0732\n",
      "Epoch 119/200\n",
      "6/6 [==============================] - 0s 166us/sample - loss: 0.0716\n",
      "Epoch 120/200\n",
      "6/6 [==============================] - 0s 166us/sample - loss: 0.0702\n",
      "Epoch 121/200\n",
      "6/6 [==============================] - 0s 166us/sample - loss: 0.0687\n",
      "Epoch 122/200\n",
      "6/6 [==============================] - 0s 166us/sample - loss: 0.0673\n",
      "Epoch 123/200\n",
      "6/6 [==============================] - 0s 332us/sample - loss: 0.0659\n",
      "Epoch 124/200\n",
      "6/6 [==============================] - 0s 332us/sample - loss: 0.0646\n",
      "Epoch 125/200\n",
      "6/6 [==============================] - 0s 337us/sample - loss: 0.0633\n",
      "Epoch 126/200\n",
      "6/6 [==============================] - 0s 162us/sample - loss: 0.0620\n",
      "Epoch 127/200\n",
      "6/6 [==============================] - 0s 166us/sample - loss: 0.0607\n",
      "Epoch 128/200\n",
      "6/6 [==============================] - 0s 162us/sample - loss: 0.0594\n",
      "Epoch 129/200\n",
      "6/6 [==============================] - 0s 166us/sample - loss: 0.0582\n",
      "Epoch 130/200\n",
      "6/6 [==============================] - 0s 161us/sample - loss: 0.0570\n",
      "Epoch 131/200\n",
      "6/6 [==============================] - 0s 162us/sample - loss: 0.0559\n",
      "Epoch 132/200\n",
      "6/6 [==============================] - 0s 166us/sample - loss: 0.0547\n",
      "Epoch 133/200\n",
      "6/6 [==============================] - 0s 166us/sample - loss: 0.0536\n",
      "Epoch 134/200\n",
      "6/6 [==============================] - 0s 332us/sample - loss: 0.0525\n",
      "Epoch 135/200\n",
      "6/6 [==============================] - 0s 332us/sample - loss: 0.0514\n",
      "Epoch 136/200\n",
      "6/6 [==============================] - 0s 332us/sample - loss: 0.0503\n",
      "Epoch 137/200\n",
      "6/6 [==============================] - 0s 333us/sample - loss: 0.0493\n",
      "Epoch 138/200\n",
      "6/6 [==============================] - 0s 333us/sample - loss: 0.0483\n",
      "Epoch 139/200\n",
      "6/6 [==============================] - 0s 166us/sample - loss: 0.0473\n",
      "Epoch 140/200\n",
      "6/6 [==============================] - 0s 166us/sample - loss: 0.0463\n",
      "Epoch 141/200\n",
      "6/6 [==============================] - 0s 166us/sample - loss: 0.0454\n",
      "Epoch 142/200\n",
      "6/6 [==============================] - 0s 332us/sample - loss: 0.0445\n",
      "Epoch 143/200\n",
      "6/6 [==============================] - 0s 166us/sample - loss: 0.0435\n",
      "Epoch 144/200\n",
      "6/6 [==============================] - 0s 166us/sample - loss: 0.0426\n",
      "Epoch 145/200\n",
      "6/6 [==============================] - 0s 166us/sample - loss: 0.0418\n",
      "Epoch 146/200\n",
      "6/6 [==============================] - 0s 166us/sample - loss: 0.0409\n",
      "Epoch 147/200\n",
      "6/6 [==============================] - 0s 166us/sample - loss: 0.0401\n",
      "Epoch 148/200\n",
      "6/6 [==============================] - 0s 166us/sample - loss: 0.0392\n",
      "Epoch 149/200\n",
      "6/6 [==============================] - 0s 166us/sample - loss: 0.0384\n",
      "Epoch 150/200\n",
      "6/6 [==============================] - 0s 166us/sample - loss: 0.0377\n",
      "Epoch 151/200\n",
      "6/6 [==============================] - 0s 332us/sample - loss: 0.0369\n",
      "Epoch 152/200\n",
      "6/6 [==============================] - 0s 166us/sample - loss: 0.0361\n",
      "Epoch 153/200\n",
      "6/6 [==============================] - 0s 166us/sample - loss: 0.0354\n",
      "Epoch 154/200\n",
      "6/6 [==============================] - 0s 166us/sample - loss: 0.0347\n",
      "Epoch 155/200\n",
      "6/6 [==============================] - 0s 332us/sample - loss: 0.0339\n",
      "Epoch 156/200\n",
      "6/6 [==============================] - 0s 332us/sample - loss: 0.0332\n",
      "Epoch 157/200\n",
      "6/6 [==============================] - 0s 166us/sample - loss: 0.0326\n",
      "Epoch 158/200\n",
      "6/6 [==============================] - 0s 166us/sample - loss: 0.0319\n",
      "Epoch 159/200\n",
      "6/6 [==============================] - 0s 166us/sample - loss: 0.0312\n",
      "Epoch 160/200\n",
      "6/6 [==============================] - 0s 333us/sample - loss: 0.0306\n",
      "Epoch 161/200\n",
      "6/6 [==============================] - 0s 166us/sample - loss: 0.0300\n",
      "Epoch 162/200\n",
      "6/6 [==============================] - 0s 166us/sample - loss: 0.0294\n",
      "Epoch 163/200\n",
      "6/6 [==============================] - 0s 332us/sample - loss: 0.0287\n",
      "Epoch 164/200\n",
      "6/6 [==============================] - 0s 166us/sample - loss: 0.0282\n",
      "Epoch 165/200\n",
      "6/6 [==============================] - 0s 166us/sample - loss: 0.0276\n",
      "Epoch 166/200\n",
      "6/6 [==============================] - 0s 333us/sample - loss: 0.0270\n",
      "Epoch 167/200\n",
      "6/6 [==============================] - 0s 332us/sample - loss: 0.0265\n",
      "Epoch 168/200\n",
      "6/6 [==============================] - 0s 166us/sample - loss: 0.0259\n",
      "Epoch 169/200\n",
      "6/6 [==============================] - 0s 166us/sample - loss: 0.0254\n",
      "Epoch 170/200\n",
      "6/6 [==============================] - 0s 333us/sample - loss: 0.0249\n",
      "Epoch 171/200\n",
      "6/6 [==============================] - 0s 166us/sample - loss: 0.0244\n",
      "Epoch 172/200\n",
      "6/6 [==============================] - 0s 332us/sample - loss: 0.0239\n",
      "Epoch 173/200\n",
      "6/6 [==============================] - 0s 332us/sample - loss: 0.0234\n",
      "Epoch 174/200\n",
      "6/6 [==============================] - 0s 166us/sample - loss: 0.0229\n",
      "Epoch 175/200\n",
      "6/6 [==============================] - 0s 166us/sample - loss: 0.0224\n",
      "Epoch 176/200\n",
      "6/6 [==============================] - 0s 166us/sample - loss: 0.0220\n",
      "Epoch 177/200\n",
      "6/6 [==============================] - 0s 166us/sample - loss: 0.0215\n",
      "Epoch 178/200\n",
      "6/6 [==============================] - 0s 166us/sample - loss: 0.0211\n",
      "Epoch 179/200\n",
      "6/6 [==============================] - 0s 166us/sample - loss: 0.0206\n",
      "Epoch 180/200\n",
      "6/6 [==============================] - 0s 332us/sample - loss: 0.0202\n",
      "Epoch 181/200\n",
      "6/6 [==============================] - 0s 166us/sample - loss: 0.0198\n",
      "Epoch 182/200\n",
      "6/6 [==============================] - 0s 332us/sample - loss: 0.0194\n",
      "Epoch 183/200\n",
      "6/6 [==============================] - 0s 166us/sample - loss: 0.0190\n",
      "Epoch 184/200\n",
      "6/6 [==============================] - 0s 332us/sample - loss: 0.0186\n",
      "Epoch 185/200\n",
      "6/6 [==============================] - 0s 166us/sample - loss: 0.0182\n",
      "Epoch 186/200\n",
      "6/6 [==============================] - 0s 166us/sample - loss: 0.0178\n",
      "Epoch 187/200\n",
      "6/6 [==============================] - 0s 166us/sample - loss: 0.0175\n",
      "Epoch 188/200\n",
      "6/6 [==============================] - 0s 166us/sample - loss: 0.0171\n",
      "Epoch 189/200\n",
      "6/6 [==============================] - 0s 166us/sample - loss: 0.0168\n",
      "Epoch 190/200\n",
      "6/6 [==============================] - 0s 332us/sample - loss: 0.0164\n",
      "Epoch 191/200\n",
      "6/6 [==============================] - 0s 332us/sample - loss: 0.0161\n",
      "Epoch 192/200\n",
      "6/6 [==============================] - 0s 332us/sample - loss: 0.0157\n",
      "Epoch 193/200\n",
      "6/6 [==============================] - 0s 333us/sample - loss: 0.0154\n",
      "Epoch 194/200\n",
      "6/6 [==============================] - 0s 166us/sample - loss: 0.0151\n",
      "Epoch 195/200\n",
      "6/6 [==============================] - 0s 332us/sample - loss: 0.0148\n",
      "Epoch 196/200\n",
      "6/6 [==============================] - 0s 333us/sample - loss: 0.0145\n",
      "Epoch 197/200\n",
      "6/6 [==============================] - 0s 166us/sample - loss: 0.0142\n"
     ]
    },
    {
     "name": "stdout",
     "output_type": "stream",
     "text": [
      "Epoch 198/200\n",
      "6/6 [==============================] - 0s 332us/sample - loss: 0.0139\n",
      "Epoch 199/200\n",
      "6/6 [==============================] - 0s 332us/sample - loss: 0.0136\n",
      "Epoch 200/200\n",
      "6/6 [==============================] - 0s 332us/sample - loss: 0.0133\n"
     ]
    },
    {
     "data": {
      "text/plain": [
       "<tensorflow.python.keras.callbacks.History at 0x23117d8b0c8>"
      ]
     },
     "execution_count": 41,
     "metadata": {},
     "output_type": "execute_result"
    }
   ],
   "source": [
    "# Create a simple Keras model.\n",
    "x = [-1, 0, 1, 2, 3, 4]\n",
    "y = [-3, -1, 1, 3, 5, 7]\n",
    "\n",
    "model = tf.keras.models.Sequential([\n",
    "        tf.keras.layers.Dense(units=1, input_shape=[1])\n",
    "])\n",
    "\n",
    "model.compile(optimizer='sgd',\n",
    "              loss='mean_squared_error')\n",
    "\n",
    "model.fit(x, y, epochs=200)"
   ]
  },
  {
   "cell_type": "markdown",
   "metadata": {
    "colab_type": "text",
    "id": "EjsB-QICGt6L"
   },
   "source": [
    "## Generate a SavedModel"
   ]
  },
  {
   "cell_type": "code",
   "execution_count": null,
   "metadata": {},
   "outputs": [],
   "source": [
    "export_dir = 'saved_model\\\\1'\n",
    "tf.saved_model.save(model, export_dir)"
   ]
  },
  {
   "cell_type": "markdown",
   "metadata": {
    "colab_type": "text",
    "id": "RRtsNwkiGxcO"
   },
   "source": [
    "## Convert the SavedModel to TFLite"
   ]
  },
  {
   "cell_type": "code",
   "execution_count": null,
   "metadata": {
    "colab": {},
    "colab_type": "code",
    "id": "TtM8yKTVTpD3"
   },
   "outputs": [],
   "source": [
    "# Convert the model.\n",
    "converter = tf.lite.TFLiteConverter.from_saved_model(export_dir)\n",
    "tflite_model = converter.convert()"
   ]
  },
  {
   "cell_type": "code",
   "execution_count": null,
   "metadata": {
    "colab": {},
    "colab_type": "code",
    "id": "4idYulcNHTdO"
   },
   "outputs": [],
   "source": [
    "tflite_model_file = pathlib.Path('model.tflite')\n",
    "tflite_model_file.write_bytes(tflite_model)"
   ]
  },
  {
   "cell_type": "markdown",
   "metadata": {},
   "source": [
    "# Generate a H5"
   ]
  },
  {
   "cell_type": "code",
   "execution_count": 42,
   "metadata": {},
   "outputs": [],
   "source": [
    "model.save('modelv1.h5')"
   ]
  },
  {
   "cell_type": "markdown",
   "metadata": {},
   "source": [
    "# Convert the H5 to TFLite"
   ]
  },
  {
   "cell_type": "code",
   "execution_count": 43,
   "metadata": {},
   "outputs": [
    {
     "name": "stdout",
     "output_type": "stream",
     "text": [
      "INFO:tensorflow:Froze 2 variables.\n",
      "INFO:tensorflow:Converted 2 variables to const ops.\n"
     ]
    }
   ],
   "source": [
    "# Convert the model.\n",
    "converter = tf.lite.TFLiteConverter.from_keras_model_file('modelv1.h5')\n",
    "tflite_model = converter.convert()"
   ]
  },
  {
   "cell_type": "markdown",
   "metadata": {
    "colab_type": "text",
    "id": "HgGvp2yBG25Q"
   },
   "source": [
    "## Initialize the TFLite Interpreter To Try It Out"
   ]
  },
  {
   "cell_type": "code",
   "execution_count": 44,
   "metadata": {
    "colab": {},
    "colab_type": "code",
    "id": "DOt94wIWF8m7"
   },
   "outputs": [],
   "source": [
    "# Load TFLite model and allocate tensors.\n",
    "interpreter = tf.lite.Interpreter(model_content=tflite_model)\n",
    "interpreter.allocate_tensors()\n",
    "\n",
    "# Get input and output tensors.\n",
    "input_details = interpreter.get_input_details()\n",
    "output_details = interpreter.get_output_details()"
   ]
  },
  {
   "cell_type": "code",
   "execution_count": 47,
   "metadata": {
    "colab": {},
    "colab_type": "code",
    "id": "JGYkEK08F8qK"
   },
   "outputs": [
    {
     "ename": "ValueError",
     "evalue": "Tensor(\"dense_1/kernel/Read/ReadVariableOp:0\", shape=(1, 1), dtype=float32) must be from the same graph as Tensor(\"Const:0\", shape=(1, 1), dtype=float32).",
     "output_type": "error",
     "traceback": [
      "\u001b[1;31m---------------------------------------------------------------------------\u001b[0m",
      "\u001b[1;31mValueError\u001b[0m                                Traceback (most recent call last)",
      "\u001b[1;32m<ipython-input-47-3d58a393b6c1>\u001b[0m in \u001b[0;36m<module>\u001b[1;34m\u001b[0m\n\u001b[0;32m     12\u001b[0m \u001b[1;33m\u001b[0m\u001b[0m\n\u001b[0;32m     13\u001b[0m         \u001b[1;31m# Test the TensorFlow model on random input data.\u001b[0m\u001b[1;33m\u001b[0m\u001b[1;33m\u001b[0m\u001b[1;33m\u001b[0m\u001b[0m\n\u001b[1;32m---> 14\u001b[1;33m         \u001b[0mtf_results\u001b[0m \u001b[1;33m=\u001b[0m \u001b[0mmodel\u001b[0m\u001b[1;33m(\u001b[0m\u001b[0mtf\u001b[0m\u001b[1;33m.\u001b[0m\u001b[0mconstant\u001b[0m\u001b[1;33m(\u001b[0m\u001b[0minput_data\u001b[0m\u001b[1;33m)\u001b[0m\u001b[1;33m)\u001b[0m\u001b[1;33m\u001b[0m\u001b[1;33m\u001b[0m\u001b[0m\n\u001b[0m\u001b[0;32m     15\u001b[0m         \u001b[0moutput_data\u001b[0m \u001b[1;33m=\u001b[0m \u001b[0mnp\u001b[0m\u001b[1;33m.\u001b[0m\u001b[0marray\u001b[0m\u001b[1;33m(\u001b[0m\u001b[0mtf_results\u001b[0m\u001b[1;33m)\u001b[0m\u001b[1;33m\u001b[0m\u001b[1;33m\u001b[0m\u001b[0m\n\u001b[0;32m     16\u001b[0m \u001b[1;33m\u001b[0m\u001b[0m\n",
      "\u001b[1;32m~\\Anaconda3\\lib\\site-packages\\tensorflow\\python\\keras\\engine\\base_layer.py\u001b[0m in \u001b[0;36m__call__\u001b[1;34m(self, inputs, *args, **kwargs)\u001b[0m\n\u001b[0;32m    632\u001b[0m                     \u001b[0moutputs\u001b[0m \u001b[1;33m=\u001b[0m \u001b[0mbase_layer_utils\u001b[0m\u001b[1;33m.\u001b[0m\u001b[0mmark_as_return\u001b[0m\u001b[1;33m(\u001b[0m\u001b[0moutputs\u001b[0m\u001b[1;33m,\u001b[0m \u001b[0macd\u001b[0m\u001b[1;33m)\u001b[0m\u001b[1;33m\u001b[0m\u001b[1;33m\u001b[0m\u001b[0m\n\u001b[0;32m    633\u001b[0m                 \u001b[1;32melse\u001b[0m\u001b[1;33m:\u001b[0m\u001b[1;33m\u001b[0m\u001b[1;33m\u001b[0m\u001b[0m\n\u001b[1;32m--> 634\u001b[1;33m                   \u001b[0moutputs\u001b[0m \u001b[1;33m=\u001b[0m \u001b[0mcall_fn\u001b[0m\u001b[1;33m(\u001b[0m\u001b[0minputs\u001b[0m\u001b[1;33m,\u001b[0m \u001b[1;33m*\u001b[0m\u001b[0margs\u001b[0m\u001b[1;33m,\u001b[0m \u001b[1;33m**\u001b[0m\u001b[0mkwargs\u001b[0m\u001b[1;33m)\u001b[0m\u001b[1;33m\u001b[0m\u001b[1;33m\u001b[0m\u001b[0m\n\u001b[0m\u001b[0;32m    635\u001b[0m \u001b[1;33m\u001b[0m\u001b[0m\n\u001b[0;32m    636\u001b[0m             \u001b[1;32mexcept\u001b[0m \u001b[0mTypeError\u001b[0m \u001b[1;32mas\u001b[0m \u001b[0me\u001b[0m\u001b[1;33m:\u001b[0m\u001b[1;33m\u001b[0m\u001b[1;33m\u001b[0m\u001b[0m\n",
      "\u001b[1;32m~\\Anaconda3\\lib\\site-packages\\tensorflow\\python\\keras\\engine\\sequential.py\u001b[0m in \u001b[0;36mcall\u001b[1;34m(self, inputs, training, mask)\u001b[0m\n\u001b[0;32m    245\u001b[0m       \u001b[1;32mif\u001b[0m \u001b[1;32mnot\u001b[0m \u001b[0mself\u001b[0m\u001b[1;33m.\u001b[0m\u001b[0mbuilt\u001b[0m\u001b[1;33m:\u001b[0m\u001b[1;33m\u001b[0m\u001b[1;33m\u001b[0m\u001b[0m\n\u001b[0;32m    246\u001b[0m         \u001b[0mself\u001b[0m\u001b[1;33m.\u001b[0m\u001b[0m_init_graph_network\u001b[0m\u001b[1;33m(\u001b[0m\u001b[0mself\u001b[0m\u001b[1;33m.\u001b[0m\u001b[0minputs\u001b[0m\u001b[1;33m,\u001b[0m \u001b[0mself\u001b[0m\u001b[1;33m.\u001b[0m\u001b[0moutputs\u001b[0m\u001b[1;33m,\u001b[0m \u001b[0mname\u001b[0m\u001b[1;33m=\u001b[0m\u001b[0mself\u001b[0m\u001b[1;33m.\u001b[0m\u001b[0mname\u001b[0m\u001b[1;33m)\u001b[0m\u001b[1;33m\u001b[0m\u001b[1;33m\u001b[0m\u001b[0m\n\u001b[1;32m--> 247\u001b[1;33m       \u001b[1;32mreturn\u001b[0m \u001b[0msuper\u001b[0m\u001b[1;33m(\u001b[0m\u001b[0mSequential\u001b[0m\u001b[1;33m,\u001b[0m \u001b[0mself\u001b[0m\u001b[1;33m)\u001b[0m\u001b[1;33m.\u001b[0m\u001b[0mcall\u001b[0m\u001b[1;33m(\u001b[0m\u001b[0minputs\u001b[0m\u001b[1;33m,\u001b[0m \u001b[0mtraining\u001b[0m\u001b[1;33m=\u001b[0m\u001b[0mtraining\u001b[0m\u001b[1;33m,\u001b[0m \u001b[0mmask\u001b[0m\u001b[1;33m=\u001b[0m\u001b[0mmask\u001b[0m\u001b[1;33m)\u001b[0m\u001b[1;33m\u001b[0m\u001b[1;33m\u001b[0m\u001b[0m\n\u001b[0m\u001b[0;32m    248\u001b[0m \u001b[1;33m\u001b[0m\u001b[0m\n\u001b[0;32m    249\u001b[0m     \u001b[0moutputs\u001b[0m \u001b[1;33m=\u001b[0m \u001b[0minputs\u001b[0m  \u001b[1;31m# handle the corner case where self.layers is empty\u001b[0m\u001b[1;33m\u001b[0m\u001b[1;33m\u001b[0m\u001b[0m\n",
      "\u001b[1;32m~\\Anaconda3\\lib\\site-packages\\tensorflow\\python\\keras\\engine\\network.py\u001b[0m in \u001b[0;36mcall\u001b[1;34m(self, inputs, training, mask)\u001b[0m\n\u001b[0;32m    749\u001b[0m                                 ' implement a `call` method.')\n\u001b[0;32m    750\u001b[0m \u001b[1;33m\u001b[0m\u001b[0m\n\u001b[1;32m--> 751\u001b[1;33m     \u001b[1;32mreturn\u001b[0m \u001b[0mself\u001b[0m\u001b[1;33m.\u001b[0m\u001b[0m_run_internal_graph\u001b[0m\u001b[1;33m(\u001b[0m\u001b[0minputs\u001b[0m\u001b[1;33m,\u001b[0m \u001b[0mtraining\u001b[0m\u001b[1;33m=\u001b[0m\u001b[0mtraining\u001b[0m\u001b[1;33m,\u001b[0m \u001b[0mmask\u001b[0m\u001b[1;33m=\u001b[0m\u001b[0mmask\u001b[0m\u001b[1;33m)\u001b[0m\u001b[1;33m\u001b[0m\u001b[1;33m\u001b[0m\u001b[0m\n\u001b[0m\u001b[0;32m    752\u001b[0m \u001b[1;33m\u001b[0m\u001b[0m\n\u001b[0;32m    753\u001b[0m   \u001b[1;32mdef\u001b[0m \u001b[0mcompute_output_shape\u001b[0m\u001b[1;33m(\u001b[0m\u001b[0mself\u001b[0m\u001b[1;33m,\u001b[0m \u001b[0minput_shape\u001b[0m\u001b[1;33m)\u001b[0m\u001b[1;33m:\u001b[0m\u001b[1;33m\u001b[0m\u001b[1;33m\u001b[0m\u001b[0m\n",
      "\u001b[1;32m~\\Anaconda3\\lib\\site-packages\\tensorflow\\python\\keras\\engine\\network.py\u001b[0m in \u001b[0;36m_run_internal_graph\u001b[1;34m(self, inputs, training, mask)\u001b[0m\n\u001b[0;32m    891\u001b[0m \u001b[1;33m\u001b[0m\u001b[0m\n\u001b[0;32m    892\u001b[0m           \u001b[1;31m# Compute outputs.\u001b[0m\u001b[1;33m\u001b[0m\u001b[1;33m\u001b[0m\u001b[1;33m\u001b[0m\u001b[0m\n\u001b[1;32m--> 893\u001b[1;33m           \u001b[0moutput_tensors\u001b[0m \u001b[1;33m=\u001b[0m \u001b[0mlayer\u001b[0m\u001b[1;33m(\u001b[0m\u001b[0mcomputed_tensors\u001b[0m\u001b[1;33m,\u001b[0m \u001b[1;33m**\u001b[0m\u001b[0mkwargs\u001b[0m\u001b[1;33m)\u001b[0m\u001b[1;33m\u001b[0m\u001b[1;33m\u001b[0m\u001b[0m\n\u001b[0m\u001b[0;32m    894\u001b[0m \u001b[1;33m\u001b[0m\u001b[0m\n\u001b[0;32m    895\u001b[0m           \u001b[1;31m# Update tensor_dict.\u001b[0m\u001b[1;33m\u001b[0m\u001b[1;33m\u001b[0m\u001b[1;33m\u001b[0m\u001b[0m\n",
      "\u001b[1;32m~\\Anaconda3\\lib\\site-packages\\tensorflow\\python\\keras\\engine\\base_layer.py\u001b[0m in \u001b[0;36m__call__\u001b[1;34m(self, inputs, *args, **kwargs)\u001b[0m\n\u001b[0;32m    632\u001b[0m                     \u001b[0moutputs\u001b[0m \u001b[1;33m=\u001b[0m \u001b[0mbase_layer_utils\u001b[0m\u001b[1;33m.\u001b[0m\u001b[0mmark_as_return\u001b[0m\u001b[1;33m(\u001b[0m\u001b[0moutputs\u001b[0m\u001b[1;33m,\u001b[0m \u001b[0macd\u001b[0m\u001b[1;33m)\u001b[0m\u001b[1;33m\u001b[0m\u001b[1;33m\u001b[0m\u001b[0m\n\u001b[0;32m    633\u001b[0m                 \u001b[1;32melse\u001b[0m\u001b[1;33m:\u001b[0m\u001b[1;33m\u001b[0m\u001b[1;33m\u001b[0m\u001b[0m\n\u001b[1;32m--> 634\u001b[1;33m                   \u001b[0moutputs\u001b[0m \u001b[1;33m=\u001b[0m \u001b[0mcall_fn\u001b[0m\u001b[1;33m(\u001b[0m\u001b[0minputs\u001b[0m\u001b[1;33m,\u001b[0m \u001b[1;33m*\u001b[0m\u001b[0margs\u001b[0m\u001b[1;33m,\u001b[0m \u001b[1;33m**\u001b[0m\u001b[0mkwargs\u001b[0m\u001b[1;33m)\u001b[0m\u001b[1;33m\u001b[0m\u001b[1;33m\u001b[0m\u001b[0m\n\u001b[0m\u001b[0;32m    635\u001b[0m \u001b[1;33m\u001b[0m\u001b[0m\n\u001b[0;32m    636\u001b[0m             \u001b[1;32mexcept\u001b[0m \u001b[0mTypeError\u001b[0m \u001b[1;32mas\u001b[0m \u001b[0me\u001b[0m\u001b[1;33m:\u001b[0m\u001b[1;33m\u001b[0m\u001b[1;33m\u001b[0m\u001b[0m\n",
      "\u001b[1;32m~\\Anaconda3\\lib\\site-packages\\tensorflow\\python\\keras\\layers\\core.py\u001b[0m in \u001b[0;36mcall\u001b[1;34m(self, inputs)\u001b[0m\n\u001b[0;32m   1046\u001b[0m       \u001b[1;32mif\u001b[0m \u001b[1;32mnot\u001b[0m \u001b[0mself\u001b[0m\u001b[1;33m.\u001b[0m\u001b[0m_mixed_precision_policy\u001b[0m\u001b[1;33m.\u001b[0m\u001b[0mshould_cast_variables\u001b[0m\u001b[1;33m:\u001b[0m\u001b[1;33m\u001b[0m\u001b[1;33m\u001b[0m\u001b[0m\n\u001b[0;32m   1047\u001b[0m         \u001b[0minputs\u001b[0m \u001b[1;33m=\u001b[0m \u001b[0mmath_ops\u001b[0m\u001b[1;33m.\u001b[0m\u001b[0mcast\u001b[0m\u001b[1;33m(\u001b[0m\u001b[0minputs\u001b[0m\u001b[1;33m,\u001b[0m \u001b[0mself\u001b[0m\u001b[1;33m.\u001b[0m\u001b[0mdtype\u001b[0m\u001b[1;33m)\u001b[0m\u001b[1;33m\u001b[0m\u001b[1;33m\u001b[0m\u001b[0m\n\u001b[1;32m-> 1048\u001b[1;33m       \u001b[0moutputs\u001b[0m \u001b[1;33m=\u001b[0m \u001b[0mgen_math_ops\u001b[0m\u001b[1;33m.\u001b[0m\u001b[0mmat_mul\u001b[0m\u001b[1;33m(\u001b[0m\u001b[0minputs\u001b[0m\u001b[1;33m,\u001b[0m \u001b[0mself\u001b[0m\u001b[1;33m.\u001b[0m\u001b[0mkernel\u001b[0m\u001b[1;33m)\u001b[0m\u001b[1;33m\u001b[0m\u001b[1;33m\u001b[0m\u001b[0m\n\u001b[0m\u001b[0;32m   1049\u001b[0m     \u001b[1;32mif\u001b[0m \u001b[0mself\u001b[0m\u001b[1;33m.\u001b[0m\u001b[0muse_bias\u001b[0m\u001b[1;33m:\u001b[0m\u001b[1;33m\u001b[0m\u001b[1;33m\u001b[0m\u001b[0m\n\u001b[0;32m   1050\u001b[0m       \u001b[0moutputs\u001b[0m \u001b[1;33m=\u001b[0m \u001b[0mnn\u001b[0m\u001b[1;33m.\u001b[0m\u001b[0mbias_add\u001b[0m\u001b[1;33m(\u001b[0m\u001b[0moutputs\u001b[0m\u001b[1;33m,\u001b[0m \u001b[0mself\u001b[0m\u001b[1;33m.\u001b[0m\u001b[0mbias\u001b[0m\u001b[1;33m)\u001b[0m\u001b[1;33m\u001b[0m\u001b[1;33m\u001b[0m\u001b[0m\n",
      "\u001b[1;32m~\\Anaconda3\\lib\\site-packages\\tensorflow\\python\\ops\\gen_math_ops.py\u001b[0m in \u001b[0;36mmat_mul\u001b[1;34m(a, b, transpose_a, transpose_b, name)\u001b[0m\n\u001b[0;32m   6293\u001b[0m   _, _, _op = _op_def_lib._apply_op_helper(\n\u001b[0;32m   6294\u001b[0m         \u001b[1;34m\"MatMul\"\u001b[0m\u001b[1;33m,\u001b[0m \u001b[0ma\u001b[0m\u001b[1;33m=\u001b[0m\u001b[0ma\u001b[0m\u001b[1;33m,\u001b[0m \u001b[0mb\u001b[0m\u001b[1;33m=\u001b[0m\u001b[0mb\u001b[0m\u001b[1;33m,\u001b[0m \u001b[0mtranspose_a\u001b[0m\u001b[1;33m=\u001b[0m\u001b[0mtranspose_a\u001b[0m\u001b[1;33m,\u001b[0m \u001b[0mtranspose_b\u001b[0m\u001b[1;33m=\u001b[0m\u001b[0mtranspose_b\u001b[0m\u001b[1;33m,\u001b[0m\u001b[1;33m\u001b[0m\u001b[1;33m\u001b[0m\u001b[0m\n\u001b[1;32m-> 6295\u001b[1;33m                   name=name)\n\u001b[0m\u001b[0;32m   6296\u001b[0m   \u001b[0m_result\u001b[0m \u001b[1;33m=\u001b[0m \u001b[0m_op\u001b[0m\u001b[1;33m.\u001b[0m\u001b[0moutputs\u001b[0m\u001b[1;33m[\u001b[0m\u001b[1;33m:\u001b[0m\u001b[1;33m]\u001b[0m\u001b[1;33m\u001b[0m\u001b[1;33m\u001b[0m\u001b[0m\n\u001b[0;32m   6297\u001b[0m   \u001b[0m_inputs_flat\u001b[0m \u001b[1;33m=\u001b[0m \u001b[0m_op\u001b[0m\u001b[1;33m.\u001b[0m\u001b[0minputs\u001b[0m\u001b[1;33m\u001b[0m\u001b[1;33m\u001b[0m\u001b[0m\n",
      "\u001b[1;32m~\\Anaconda3\\lib\\site-packages\\tensorflow\\python\\framework\\op_def_library.py\u001b[0m in \u001b[0;36m_apply_op_helper\u001b[1;34m(self, op_type_name, name, **keywords)\u001b[0m\n\u001b[0;32m    364\u001b[0m       \u001b[1;31m# Need to flatten all the arguments into a list.\u001b[0m\u001b[1;33m\u001b[0m\u001b[1;33m\u001b[0m\u001b[1;33m\u001b[0m\u001b[0m\n\u001b[0;32m    365\u001b[0m       \u001b[1;31m# pylint: disable=protected-access\u001b[0m\u001b[1;33m\u001b[0m\u001b[1;33m\u001b[0m\u001b[1;33m\u001b[0m\u001b[0m\n\u001b[1;32m--> 366\u001b[1;33m       \u001b[0mg\u001b[0m \u001b[1;33m=\u001b[0m \u001b[0mops\u001b[0m\u001b[1;33m.\u001b[0m\u001b[0m_get_graph_from_inputs\u001b[0m\u001b[1;33m(\u001b[0m\u001b[0m_Flatten\u001b[0m\u001b[1;33m(\u001b[0m\u001b[0mkeywords\u001b[0m\u001b[1;33m.\u001b[0m\u001b[0mvalues\u001b[0m\u001b[1;33m(\u001b[0m\u001b[1;33m)\u001b[0m\u001b[1;33m)\u001b[0m\u001b[1;33m)\u001b[0m\u001b[1;33m\u001b[0m\u001b[1;33m\u001b[0m\u001b[0m\n\u001b[0m\u001b[0;32m    367\u001b[0m       \u001b[1;31m# pylint: enable=protected-access\u001b[0m\u001b[1;33m\u001b[0m\u001b[1;33m\u001b[0m\u001b[1;33m\u001b[0m\u001b[0m\n\u001b[0;32m    368\u001b[0m     \u001b[1;32mexcept\u001b[0m \u001b[0mAssertionError\u001b[0m \u001b[1;32mas\u001b[0m \u001b[0me\u001b[0m\u001b[1;33m:\u001b[0m\u001b[1;33m\u001b[0m\u001b[1;33m\u001b[0m\u001b[0m\n",
      "\u001b[1;32m~\\Anaconda3\\lib\\site-packages\\tensorflow\\python\\framework\\ops.py\u001b[0m in \u001b[0;36m_get_graph_from_inputs\u001b[1;34m(op_input_list, graph)\u001b[0m\n\u001b[0;32m   6133\u001b[0m         \u001b[0mgraph\u001b[0m \u001b[1;33m=\u001b[0m \u001b[0mgraph_element\u001b[0m\u001b[1;33m.\u001b[0m\u001b[0mgraph\u001b[0m\u001b[1;33m\u001b[0m\u001b[1;33m\u001b[0m\u001b[0m\n\u001b[0;32m   6134\u001b[0m       \u001b[1;32melif\u001b[0m \u001b[0moriginal_graph_element\u001b[0m \u001b[1;32mis\u001b[0m \u001b[1;32mnot\u001b[0m \u001b[1;32mNone\u001b[0m\u001b[1;33m:\u001b[0m\u001b[1;33m\u001b[0m\u001b[1;33m\u001b[0m\u001b[0m\n\u001b[1;32m-> 6135\u001b[1;33m         \u001b[0m_assert_same_graph\u001b[0m\u001b[1;33m(\u001b[0m\u001b[0moriginal_graph_element\u001b[0m\u001b[1;33m,\u001b[0m \u001b[0mgraph_element\u001b[0m\u001b[1;33m)\u001b[0m\u001b[1;33m\u001b[0m\u001b[1;33m\u001b[0m\u001b[0m\n\u001b[0m\u001b[0;32m   6136\u001b[0m       \u001b[1;32melif\u001b[0m \u001b[0mgraph_element\u001b[0m\u001b[1;33m.\u001b[0m\u001b[0mgraph\u001b[0m \u001b[1;32mis\u001b[0m \u001b[1;32mnot\u001b[0m \u001b[0mgraph\u001b[0m\u001b[1;33m:\u001b[0m\u001b[1;33m\u001b[0m\u001b[1;33m\u001b[0m\u001b[0m\n\u001b[0;32m   6137\u001b[0m         \u001b[1;32mraise\u001b[0m \u001b[0mValueError\u001b[0m\u001b[1;33m(\u001b[0m\u001b[1;34m\"%s is not from the passed-in graph.\"\u001b[0m \u001b[1;33m%\u001b[0m \u001b[0mgraph_element\u001b[0m\u001b[1;33m)\u001b[0m\u001b[1;33m\u001b[0m\u001b[1;33m\u001b[0m\u001b[0m\n",
      "\u001b[1;32m~\\Anaconda3\\lib\\site-packages\\tensorflow\\python\\framework\\ops.py\u001b[0m in \u001b[0;36m_assert_same_graph\u001b[1;34m(original_item, item)\u001b[0m\n\u001b[0;32m   6069\u001b[0m   \u001b[1;32mif\u001b[0m \u001b[0moriginal_item\u001b[0m\u001b[1;33m.\u001b[0m\u001b[0mgraph\u001b[0m \u001b[1;32mis\u001b[0m \u001b[1;32mnot\u001b[0m \u001b[0mitem\u001b[0m\u001b[1;33m.\u001b[0m\u001b[0mgraph\u001b[0m\u001b[1;33m:\u001b[0m\u001b[1;33m\u001b[0m\u001b[1;33m\u001b[0m\u001b[0m\n\u001b[0;32m   6070\u001b[0m     raise ValueError(\"%s must be from the same graph as %s.\" %\n\u001b[1;32m-> 6071\u001b[1;33m                      (item, original_item))\n\u001b[0m\u001b[0;32m   6072\u001b[0m \u001b[1;33m\u001b[0m\u001b[0m\n\u001b[0;32m   6073\u001b[0m \u001b[1;33m\u001b[0m\u001b[0m\n",
      "\u001b[1;31mValueError\u001b[0m: Tensor(\"dense_1/kernel/Read/ReadVariableOp:0\", shape=(1, 1), dtype=float32) must be from the same graph as Tensor(\"Const:0\", shape=(1, 1), dtype=float32)."
     ]
    }
   ],
   "source": [
    "# Test the TensorFlow Lite model on random input data.\n",
    "input_shape = input_details[0]['shape']\n",
    "inputs, outputs = [], []\n",
    "\n",
    "for _ in range(100):\n",
    "    input_data = np.array(np.random.random_sample(input_shape), dtype=np.float32)\n",
    "    interpreter.set_tensor(input_details[0]['index'], input_data)\n",
    "    \n",
    "    interpreter.invoke()\n",
    "    tflite_results = interpreter.get_tensor(output_details[0]['index'])\n",
    "    \n",
    "    # Test the TensorFlow model on random input data.\n",
    "    tf_results = model(tf.constant(input_data))\n",
    "    output_data = np.array(tf_results)\n",
    "    \n",
    "    inputs.append(input_data[0][0])\n",
    "    outputs.append(output_data[0][0])"
   ]
  },
  {
   "cell_type": "markdown",
   "metadata": {
    "colab_type": "text",
    "id": "t1gQGH1KWAgW"
   },
   "source": [
    "## Visualize the Model"
   ]
  },
  {
   "cell_type": "code",
   "execution_count": null,
   "metadata": {
    "colab": {},
    "colab_type": "code",
    "id": "ccvQ1mEJVrqo"
   },
   "outputs": [],
   "source": [
    "%matplotlib inline\n",
    "\n",
    "plt.plot(inputs, outputs, 'r')\n",
    "plt.show()"
   ]
  },
  {
   "cell_type": "markdown",
   "metadata": {
    "colab_type": "text",
    "id": "WbugMH6yKvtd"
   },
   "source": [
    "## Download the TFLite Model File\n",
    "\n",
    "If you are running this notebook in a Colab, you can run the cell below to download the tflite model to your local disk. \n",
    "\n",
    "**Note**: If the file does not download when you run the cell, try running the cell a second time."
   ]
  },
  {
   "cell_type": "code",
   "execution_count": null,
   "metadata": {
    "colab": {},
    "colab_type": "code",
    "id": "FOAIMETeJmkc"
   },
   "outputs": [],
   "source": [
    "try:\n",
    "    from google.colab import files\n",
    "    files.download(tflite_model_file)\n",
    "except:\n",
    "    pass"
   ]
  }
 ],
 "metadata": {
  "accelerator": "GPU",
  "colab": {
   "collapsed_sections": [],
   "last_runtime": {
    "build_target": "//learning/brain/python/client:colab_notebook_py3",
    "kind": "private"
   },
   "name": "TFLite_Week1_Linear_Regression.ipynb",
   "private_outputs": true,
   "provenance": [],
   "toc_visible": true
  },
  "kernelspec": {
   "display_name": "Python 3",
   "language": "python",
   "name": "python3"
  },
  "language_info": {
   "codemirror_mode": {
    "name": "ipython",
    "version": 3
   },
   "file_extension": ".py",
   "mimetype": "text/x-python",
   "name": "python",
   "nbconvert_exporter": "python",
   "pygments_lexer": "ipython3",
   "version": "3.7.4"
  }
 },
 "nbformat": 4,
 "nbformat_minor": 1
}
